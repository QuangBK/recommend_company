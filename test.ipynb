{
 "cells": [
  {
   "cell_type": "code",
   "execution_count": 8,
   "metadata": {
    "collapsed": false
   },
   "outputs": [
    {
     "data": {
      "text/plain": [
       "array([u'Mark Blake', u'Kendra Morris', u'Daniel Trujillo',\n",
       "       u'Aaron Thompson', u'Mr. Nicholas Rodriguez DDS'], \n",
       "      dtype='<U26')"
      ]
     },
     "execution_count": 8,
     "metadata": {},
     "output_type": "execute_result"
    }
   ],
   "source": [
    "import numpy as np\n",
    "import pandas as pd\n",
    "from sklearn.datasets import make_classification\n",
    "from sklearn import preprocessing\n",
    "from sklearn.preprocessing import OneHotEncoder\n",
    "from sklearn import svm\n",
    "from faker import Faker\n",
    "fake = Faker()\n",
    "\n",
    "def gaussian_distribute(sample, mean, var, clip_min, clip_max, around):\n",
    "    x = np.random.normal(mean, var, sample)\n",
    "    x = np.clip(x, clip_min, clip_max)\n",
    "    x = np.around(x, decimals=around)\n",
    "    return x\n",
    "\n",
    "def rand_distribute(sample, scale, around):\n",
    "    x = np.random.rand(sample)\n",
    "    x = x*scale\n",
    "    x = np.around(x, decimals=around)\n",
    "    return x\n",
    "def encode_label(x, le=None, enc=None):\n",
    "    if le is None:\n",
    "        le = preprocessing.LabelEncoder()\n",
    "        X_ = le.fit_transform(x)\n",
    "    else:\n",
    "        X_ = le.transform(x)\n",
    "        \n",
    "    X_ = X_.reshape(-1,1)\n",
    "    \n",
    "    if enc is None:\n",
    "        enc = OneHotEncoder()\n",
    "        X_ = enc.fit_transform(X_)\n",
    "    else:\n",
    "        X_ = enc.transform(X_)   \n",
    "    \n",
    "    return X_.toarray(), le, enc\n",
    "\n",
    "def convert_raw_data(data):\n",
    "    GPA = np.array([data['GAP']])\n",
    "    semester = np.array([data['semester']])\n",
    "    ctxh = np.array([data['ctxh']])\n",
    "    \n",
    "    GPA = GPA.reshape(-1,1)\n",
    "    semester = semester.reshape(-1,1)\n",
    "    ctxh = ctxh.reshape(-1,1)\n",
    "\n",
    "    gender, _, _ = encode_label([data['gender']], le_g, enc_g)\n",
    "    is_ok, _, _ = encode_label([data['is_ok']], le_i, enc_i)\n",
    "    mutilchoie_5, _, _ = encode_label([data['mutilchoie_5']], le_5, enc_5)\n",
    "    mutilchoie_3, _, _ = encode_label([data['mutilchoie_3']], le_3, enc_3)\n",
    "    mutilchoie_2_1, _, _ = encode_label([data['mutilchoie_2_1']], le_21, enc_21)\n",
    "    mutilchoie_2_2, _, _ = encode_label([data['mutilchoie_2_2']], le_22, enc_22)\n",
    "    mutilchoie_2_3, _, _ = encode_label([data['mutilchoie_2_3']], le_23, enc_23)\n",
    "\n",
    "    X_data = np.hstack((GPA,gender))\n",
    "    X_data = np.hstack((X_data,semester))\n",
    "    X_data = np.hstack((X_data,gender))\n",
    "    X_data = np.hstack((X_data,is_ok))\n",
    "    X_data = np.hstack((X_data,mutilchoie_5))\n",
    "    X_data = np.hstack((X_data,mutilchoie_3))\n",
    "    X_data = np.hstack((X_data,mutilchoie_2_1))\n",
    "    X_data = np.hstack((X_data,mutilchoie_2_2))\n",
    "    X_data = np.hstack((X_data,mutilchoie_2_3))\n",
    "    return X_data\n",
    "\n",
    "import pickle\n",
    "# save the classifier\n",
    "with open('./model/model_svm.pkl', 'rb') as fid:\n",
    "    clf = pickle.load(fid)\n",
    "\n",
    "with open('./pre_data/label_company.pkl', 'rb') as fid:\n",
    "    name_company = pickle.load(fid)\n",
    "    \n",
    "with open('./pre_data/le_g.pkl', 'rb') as fid:\n",
    "    le_g = pickle.load(fid)\n",
    "    \n",
    "with open('./pre_data/enc_g.pkl', 'rb') as fid:\n",
    "    enc_g = pickle.load(fid)\n",
    "    \n",
    "with open('./pre_data/le_i.pkl', 'rb') as fid:\n",
    "    le_i = pickle.load(fid)\n",
    "    \n",
    "with open('./pre_data/enc_i.pkl', 'rb') as fid:\n",
    "    enc_i = pickle.load(fid)\n",
    "    \n",
    "with open('./pre_data/le_5.pkl', 'rb') as fid:\n",
    "    le_5 = pickle.load(fid)\n",
    "    \n",
    "with open('./pre_data/enc_5.pkl', 'rb') as fid:\n",
    "    enc_5 = pickle.load(fid)\n",
    "    \n",
    "with open('./pre_data/le_3.pkl', 'rb') as fid:\n",
    "    le_3 = pickle.load(fid)\n",
    "    \n",
    "with open('./pre_data/enc_3.pkl', 'rb') as fid:\n",
    "    enc_3 = pickle.load(fid)\n",
    "    \n",
    "with open('./pre_data/le_21.pkl', 'rb') as fid:\n",
    "    le_21 = pickle.load(fid)\n",
    "    \n",
    "with open('./pre_data/enc_21.pkl', 'rb') as fid:\n",
    "    enc_21 = pickle.load(fid)\n",
    "    \n",
    "with open('./pre_data/le_22.pkl', 'rb') as fid:\n",
    "    le_22 = pickle.load(fid)\n",
    "    \n",
    "with open('./pre_data/enc_22.pkl', 'rb') as fid:\n",
    "    enc_22 = pickle.load(fid)\n",
    "    \n",
    "with open('./pre_data/le_23.pkl', 'rb') as fid:\n",
    "    le_23 = pickle.load(fid)\n",
    "    \n",
    "with open('./pre_data/enc_23.pkl', 'rb') as fid:\n",
    "    enc_23 = pickle.load(fid)\n",
    "\n",
    "data_raw = {'GAP': 6.5, 'is_ok': 'no','gender': 'male', 'semester': 3, 'ctxh': 7, 'mutilchoie_5': 'very_good',\n",
    "            'mutilchoie_3': 2, 'mutilchoie_2_1' : 'yes', 'mutilchoie_2_2': 'yes',\n",
    "            'mutilchoie_2_3': 'no'}\n",
    "data_test = convert_raw_data(data_raw)\n",
    "clf.predict_proba(data_test)\n",
    "index_com = data_test[0].argsort()[-5:][::-1]\n",
    "name_company[index_com]"
   ]
  },
  {
   "cell_type": "code",
   "execution_count": 11,
   "metadata": {
    "collapsed": false
   },
   "outputs": [
    {
     "data": {
      "text/plain": [
       "array([u'Kendra Morris', u'Dennis Jenkins', u'Tracy Golden Jr.',\n",
       "       u'Elizabeth Smith', u'Brian Miller'], \n",
       "      dtype='<U26')"
      ]
     },
     "execution_count": 11,
     "metadata": {},
     "output_type": "execute_result"
    }
   ],
   "source": [
    "data_raw = {'GAP': 0.5, 'is_ok': 'yes','gender': 'female', 'semester': 3, 'ctxh': 25, 'mutilchoie_5': 'very_good',\n",
    "            'mutilchoie_3': 2, 'mutilchoie_2_1' : 'yes', 'mutilchoie_2_2': 'no',\n",
    "            'mutilchoie_2_3': 'yes'}\n",
    "data_test = convert_raw_data(data_raw)\n",
    "clf.predict_proba(data_test)\n",
    "index_com = data_test[0].argsort()[-5:][::-1]\n",
    "name_company[index_com]"
   ]
  },
  {
   "cell_type": "code",
   "execution_count": null,
   "metadata": {
    "collapsed": true
   },
   "outputs": [],
   "source": []
  }
 ],
 "metadata": {
  "kernelspec": {
   "display_name": "Python 2",
   "language": "python",
   "name": "python2"
  },
  "language_info": {
   "codemirror_mode": {
    "name": "ipython",
    "version": 2
   },
   "file_extension": ".py",
   "mimetype": "text/x-python",
   "name": "python",
   "nbconvert_exporter": "python",
   "pygments_lexer": "ipython2",
   "version": "2.7.6"
  }
 },
 "nbformat": 4,
 "nbformat_minor": 2
}
