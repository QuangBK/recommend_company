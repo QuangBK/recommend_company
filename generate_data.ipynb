{
 "cells": [
  {
   "cell_type": "code",
   "execution_count": 1,
   "metadata": {
    "collapsed": false,
    "deletable": true,
    "editable": true
   },
   "outputs": [],
   "source": [
    "import numpy as np\n",
    "import pandas as pd\n",
    "from sklearn.datasets import make_classification\n",
    "from sklearn.cross_validation import train_test_split\n",
    "from sklearn.metrics import log_loss\n",
    "from sklearn import preprocessing\n",
    "from sklearn.preprocessing import OneHotEncoder\n",
    "from sklearn import svm\n",
    "from faker import Faker\n",
    "fake = Faker()\n",
    "\n",
    "# #scale: GPA, gender, so ngay ctxh, hoc ki hien tai, gia dinh kho khan?, ...\n",
    "# scale_f = [10, 2, 10, 2, 50, 5, 2, 3, 2] \n",
    "# #shift:\n",
    "# shift_f = [0 for i in xrange(10)]\n",
    "# shift_f[0] = 100\n",
    "\n",
    "num_of_sample = 2500\n",
    "\n",
    "X, y = make_classification(n_samples=num_of_sample, n_features=10, \n",
    "                           n_redundant=0, n_informative = 7,n_clusters_per_class=1,\n",
    "                           n_classes= 100)\n",
    "\n",
    "def gaussian_distribute(sample, mean, var, clip_min, clip_max, around):\n",
    "    x = np.random.normal(mean, var, sample)\n",
    "    x = np.clip(x, clip_min, clip_max)\n",
    "    x = np.around(x, decimals=around)\n",
    "    return x\n",
    "\n",
    "def rand_distribute(sample, scale, around):\n",
    "    x = np.random.rand(sample)\n",
    "    x = x*scale\n",
    "    x = np.around(x, decimals=around)\n",
    "    return x\n",
    "def encode_label(x, le=None, enc=None):\n",
    "    if le is None:\n",
    "        le = preprocessing.LabelEncoder()\n",
    "        X_ = le.fit_transform(x)\n",
    "    else:\n",
    "        X_ = le.transform(x)\n",
    "        \n",
    "    X_ = X_.reshape(-1,1)\n",
    "    \n",
    "    if enc is None:\n",
    "        enc = OneHotEncoder()\n",
    "        X_ = enc.fit_transform(X_)\n",
    "    else:\n",
    "        X_ = enc.transform(X_)   \n",
    "    \n",
    "    return X_.toarray(), le, enc"
   ]
  },
  {
   "cell_type": "code",
   "execution_count": 2,
   "metadata": {
    "collapsed": false,
    "deletable": true,
    "editable": true
   },
   "outputs": [
    {
     "name": "stdout",
     "output_type": "stream",
     "text": [
      "(2500, 22)\n"
     ]
    }
   ],
   "source": [
    "name_company = np.array([fake.name() for i in xrange(100)])\n",
    "\n",
    "GPA = gaussian_distribute(num_of_sample, 7.0, 1.0, 0, 10, 1)\n",
    "gender = np.random.choice(['male', 'female'], size=(num_of_sample), p= [0.6, 0.4])\n",
    "semester = rand_distribute(num_of_sample, 8, 0)\n",
    "# is_ok = gaussian_distribute(num_of_sample, 0.2, 0.21, 0, 1, 0)\n",
    "is_ok = np.random.choice(['yes', 'no'], size=(num_of_sample), p= [0.9, 0.1])\n",
    "ctxh = gaussian_distribute(num_of_sample, 15, 8, 5, 70, 0)\n",
    "mutilchoie_5 = np.random.choice(['very_good', 'good', 'fine', 'not good', 'bad'], size=(num_of_sample), p= [0.2, 0.35, 0.15, 0.2, 0.1])\n",
    "mutilchoie_3 = gaussian_distribute(num_of_sample, 1, 1, 0, 2, 0)\n",
    "mutilchoie_2_1 = np.random.choice(['yes', 'no'], size=(num_of_sample), p= [0.3, 0.7])\n",
    "mutilchoie_2_2 = np.random.choice(['yes', 'no'], size=(num_of_sample), p= [0.5, 0.5])\n",
    "mutilchoie_2_3 = np.random.choice(['yes', 'no'], size=(num_of_sample), p= [0.65, 0.35])\n",
    "\n",
    "# extra_info = X[:,0:2]\n",
    "\n",
    "#=================================\n",
    "gender, le_g, enc_g = encode_label(gender)\n",
    "is_ok, le_i, enc_i = encode_label(is_ok)\n",
    "mutilchoie_5, le_5, enc_5 = encode_label(mutilchoie_5)\n",
    "mutilchoie_3, le_3, enc_3 = encode_label(mutilchoie_3)\n",
    "mutilchoie_2_1, le_21, enc_21 = encode_label(mutilchoie_2_1)\n",
    "mutilchoie_2_2, le_22, enc_22 = encode_label(mutilchoie_2_2)\n",
    "mutilchoie_2_3, le_23, enc_23 = encode_label(mutilchoie_2_3)\n",
    "\n",
    "# y_data = encode_label(y)\n",
    "\n",
    "GPA = GPA.reshape(-1,1)\n",
    "semester = semester.reshape(-1,1)\n",
    "ctxh = ctxh.reshape(-1,1)\n",
    "#==================================\n",
    "X_data = np.hstack((GPA,gender))\n",
    "X_data = np.hstack((X_data,semester))\n",
    "X_data = np.hstack((X_data,gender))\n",
    "X_data = np.hstack((X_data,is_ok))\n",
    "X_data = np.hstack((X_data,mutilchoie_5))\n",
    "X_data = np.hstack((X_data,mutilchoie_3))\n",
    "X_data = np.hstack((X_data,mutilchoie_2_1))\n",
    "X_data = np.hstack((X_data,mutilchoie_2_2))\n",
    "X_data = np.hstack((X_data,mutilchoie_2_3))\n",
    "\n",
    "\n",
    "print X_data.shape\n",
    "# print y_data.shape"
   ]
  },
  {
   "cell_type": "code",
   "execution_count": 3,
   "metadata": {
    "collapsed": true,
    "deletable": true,
    "editable": true
   },
   "outputs": [],
   "source": [
    "def convert_raw_data(data):\n",
    "    GPA = np.array([data['GAP']])\n",
    "    semester = np.array([data['semester']])\n",
    "    ctxh = np.array([data['ctxh']])\n",
    "    \n",
    "    GPA = GPA.reshape(-1,1)\n",
    "    semester = semester.reshape(-1,1)\n",
    "    ctxh = ctxh.reshape(-1,1)\n",
    "    \n",
    "    print (GPA.shape)\n",
    "    gender, _, _ = encode_label([data['gender']], le_g, enc_g)\n",
    "    is_ok, _, _ = encode_label([data['is_ok']], le_i, enc_i)\n",
    "    mutilchoie_5, _, _ = encode_label([data['mutilchoie_5']], le_5, enc_5)\n",
    "    mutilchoie_3, _, _ = encode_label([data['mutilchoie_3']], le_3, enc_3)\n",
    "    mutilchoie_2_1, _, _ = encode_label([data['mutilchoie_2_1']], le_21, enc_21)\n",
    "    mutilchoie_2_2, _, _ = encode_label([data['mutilchoie_2_2']], le_22, enc_22)\n",
    "    mutilchoie_2_3, _, _ = encode_label([data['mutilchoie_2_3']], le_23, enc_23)\n",
    "    \n",
    "    print (gender.shape)\n",
    "    X_data = np.hstack((GPA,gender))\n",
    "    X_data = np.hstack((X_data,semester))\n",
    "    X_data = np.hstack((X_data,gender))\n",
    "    X_data = np.hstack((X_data,is_ok))\n",
    "    X_data = np.hstack((X_data,mutilchoie_5))\n",
    "    X_data = np.hstack((X_data,mutilchoie_3))\n",
    "    X_data = np.hstack((X_data,mutilchoie_2_1))\n",
    "    X_data = np.hstack((X_data,mutilchoie_2_2))\n",
    "    X_data = np.hstack((X_data,mutilchoie_2_3))\n",
    "    return X_data\n",
    "    "
   ]
  },
  {
   "cell_type": "code",
   "execution_count": 4,
   "metadata": {
    "collapsed": false,
    "deletable": true,
    "editable": true
   },
   "outputs": [
    {
     "name": "stdout",
     "output_type": "stream",
     "text": [
      "Log_loss: 4.65412771085\n"
     ]
    }
   ],
   "source": [
    "clf = svm.SVC(probability=True)\n",
    "\n",
    "X_train, X_test, y_train, y_test = train_test_split(X_data, y, test_size=0.3, random_state=42)\n",
    "\n",
    "clf.fit(X_train, y_train)\n",
    "\n",
    "pred_test = clf.predict_proba(X_test)\n",
    "\n",
    "loss_log = log_loss(y_test, pred_test)\n",
    "\n",
    "print ('Log_loss: ' + str(loss_log))\n",
    "\n",
    "import pickle\n",
    "# save the classifier\n",
    "with open('./model/model_svm.pkl', 'wb') as fid:\n",
    "    pickle.dump(clf, fid)\n",
    "\n",
    "with open('./pre_data/label_company.pkl', 'wb') as fid:\n",
    "    pickle.dump(name_company, fid)\n",
    "    \n",
    "with open('./pre_data/le_g.pkl', 'wb') as fid:\n",
    "    pickle.dump(le_g, fid)\n",
    "    \n",
    "with open('./pre_data/enc_g.pkl', 'wb') as fid:\n",
    "    pickle.dump(enc_g, fid)\n",
    "    \n",
    "with open('./pre_data/le_i.pkl', 'wb') as fid:\n",
    "    pickle.dump(le_i, fid)\n",
    "    \n",
    "with open('./pre_data/enc_i.pkl', 'wb') as fid:\n",
    "    pickle.dump(enc_i, fid)\n",
    "    \n",
    "with open('./pre_data/le_5.pkl', 'wb') as fid:\n",
    "    pickle.dump(le_5, fid)\n",
    "    \n",
    "with open('./pre_data/enc_5.pkl', 'wb') as fid:\n",
    "    pickle.dump(enc_5, fid)\n",
    "    \n",
    "with open('./pre_data/le_3.pkl', 'wb') as fid:\n",
    "    pickle.dump(le_3, fid)\n",
    "    \n",
    "with open('./pre_data/enc_3.pkl', 'wb') as fid:\n",
    "    pickle.dump(enc_3, fid)\n",
    "    \n",
    "with open('./pre_data/le_21.pkl', 'wb') as fid:\n",
    "    pickle.dump(le_21, fid)\n",
    "    \n",
    "with open('./pre_data/enc_21.pkl', 'wb') as fid:\n",
    "    pickle.dump(enc_21, fid)\n",
    "    \n",
    "with open('./pre_data/le_22.pkl', 'wb') as fid:\n",
    "    pickle.dump(le_22, fid)\n",
    "    \n",
    "with open('./pre_data/enc_22.pkl', 'wb') as fid:\n",
    "    pickle.dump(enc_22, fid)\n",
    "    \n",
    "with open('./pre_data/le_23.pkl', 'wb') as fid:\n",
    "    pickle.dump(le_23, fid)\n",
    "    \n",
    "with open('./pre_data/enc_23.pkl', 'wb') as fid:\n",
    "    pickle.dump(enc_23, fid)"
   ]
  },
  {
   "cell_type": "code",
   "execution_count": 5,
   "metadata": {
    "collapsed": false,
    "deletable": true,
    "editable": true
   },
   "outputs": [
    {
     "name": "stdout",
     "output_type": "stream",
     "text": [
      "(1, 1)\n",
      "(1, 2)\n",
      "(1, 22)\n"
     ]
    },
    {
     "data": {
      "text/plain": [
       "array([u'Valerie Davis', u'Hannah Rodriguez', u'Calvin French'], \n",
       "      dtype='<U21')"
      ]
     },
     "execution_count": 5,
     "metadata": {},
     "output_type": "execute_result"
    }
   ],
   "source": [
    "data_raw = {'GAP': 8.5, 'is_ok': 'yes','gender': 'male', 'semester': 5, 'ctxh': 7, 'mutilchoie_5': 'fine',\n",
    "            'mutilchoie_3': 2, 'mutilchoie_2_1' : 'yes', 'mutilchoie_2_2': 'yes',\n",
    "            'mutilchoie_2_3': 'no'}\n",
    "data_test = convert_raw_data(data_raw)\n",
    "print (data_test.shape)\n",
    "clf.predict_proba(data_test)\n",
    "index_com = data_test[0].argsort()[-3:][::-1]\n",
    "name_company[index_com]"
   ]
  },
  {
   "cell_type": "code",
   "execution_count": null,
   "metadata": {
    "collapsed": false,
    "deletable": true,
    "editable": true
   },
   "outputs": [],
   "source": [
    "\n",
    "\n"
   ]
  },
  {
   "cell_type": "code",
   "execution_count": null,
   "metadata": {
    "collapsed": true,
    "deletable": true,
    "editable": true
   },
   "outputs": [],
   "source": []
  }
 ],
 "metadata": {
  "kernelspec": {
   "display_name": "Python 2",
   "language": "python",
   "name": "python2"
  },
  "language_info": {
   "codemirror_mode": {
    "name": "ipython",
    "version": 2
   },
   "file_extension": ".py",
   "mimetype": "text/x-python",
   "name": "python",
   "nbconvert_exporter": "python",
   "pygments_lexer": "ipython2",
   "version": "2.7.6"
  }
 },
 "nbformat": 4,
 "nbformat_minor": 2
}
